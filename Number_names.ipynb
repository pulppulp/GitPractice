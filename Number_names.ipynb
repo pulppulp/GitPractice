{
  "nbformat": 4,
  "nbformat_minor": 0,
  "metadata": {
    "colab": {
      "name": "Number names.ipynb",
      "provenance": [],
      "collapsed_sections": [
        "h4mNbVuHAqkN",
        "2jFuEyhSO3_N",
        "HXQRzkqiPa_e",
        "Gjb-eXPaSadt",
        "c7Fj0onHWEmm",
        "--bg9vxRWRfn",
        "pA5VdGZVWfGC",
        "REAKGsRGWuKc",
        "NzpFD3NJW6vb",
        "dFvJe9I-XFqY",
        "d3SzGP-MXTL1",
        "GvmLJlcpZUW5"
      ],
      "authorship_tag": "ABX9TyP8XMhH8KjPRQZ2v2BdCBHM",
      "include_colab_link": true
    },
    "kernelspec": {
      "display_name": "Python 3",
      "name": "python3"
    }
  },
  "cells": [
    {
      "cell_type": "markdown",
      "metadata": {
        "id": "view-in-github",
        "colab_type": "text"
      },
      "source": [
        "<a href=\"https://colab.research.google.com/github/xiaomeng-ma/GitPractice/blob/master/Number_names.ipynb\" target=\"_parent\"><img src=\"https://colab.research.google.com/assets/colab-badge.svg\" alt=\"Open In Colab\"/></a>"
      ]
    },
    {
      "cell_type": "code",
      "metadata": {
        "colab": {
          "base_uri": "https://localhost:8080/"
        },
        "id": "atM7BK-tLW2O",
        "outputId": "591610e8-0dce-4b14-dffb-172bad2985e2"
      },
      "source": [
        "!pip install PyDrive\n",
        "from pydrive.auth import GoogleAuth\n",
        "from pydrive.drive import GoogleDrive\n",
        "from google.colab import auth\n",
        "from oauth2client.client import GoogleCredentials\n",
        "# Authenticate and create the PyDrive client.\n",
        "auth.authenticate_user()\n",
        "gauth = GoogleAuth()\n",
        "gauth.credentials = GoogleCredentials.get_application_default()\n",
        "drive = GoogleDrive(gauth)"
      ],
      "execution_count": null,
      "outputs": [
        {
          "output_type": "stream",
          "text": [
            "Requirement already satisfied: PyDrive in /usr/local/lib/python3.6/dist-packages (1.3.1)\n",
            "Requirement already satisfied: google-api-python-client>=1.2 in /usr/local/lib/python3.6/dist-packages (from PyDrive) (1.7.12)\n",
            "Requirement already satisfied: PyYAML>=3.0 in /usr/local/lib/python3.6/dist-packages (from PyDrive) (3.13)\n",
            "Requirement already satisfied: oauth2client>=4.0.0 in /usr/local/lib/python3.6/dist-packages (from PyDrive) (4.1.3)\n",
            "Requirement already satisfied: uritemplate<4dev,>=3.0.0 in /usr/local/lib/python3.6/dist-packages (from google-api-python-client>=1.2->PyDrive) (3.0.1)\n",
            "Requirement already satisfied: google-auth-httplib2>=0.0.3 in /usr/local/lib/python3.6/dist-packages (from google-api-python-client>=1.2->PyDrive) (0.0.4)\n",
            "Requirement already satisfied: six<2dev,>=1.6.1 in /usr/local/lib/python3.6/dist-packages (from google-api-python-client>=1.2->PyDrive) (1.15.0)\n",
            "Requirement already satisfied: google-auth>=1.4.1 in /usr/local/lib/python3.6/dist-packages (from google-api-python-client>=1.2->PyDrive) (1.17.2)\n",
            "Requirement already satisfied: httplib2<1dev,>=0.17.0 in /usr/local/lib/python3.6/dist-packages (from google-api-python-client>=1.2->PyDrive) (0.17.4)\n",
            "Requirement already satisfied: pyasn1-modules>=0.0.5 in /usr/local/lib/python3.6/dist-packages (from oauth2client>=4.0.0->PyDrive) (0.2.8)\n",
            "Requirement already satisfied: pyasn1>=0.1.7 in /usr/local/lib/python3.6/dist-packages (from oauth2client>=4.0.0->PyDrive) (0.4.8)\n",
            "Requirement already satisfied: rsa>=3.1.4 in /usr/local/lib/python3.6/dist-packages (from oauth2client>=4.0.0->PyDrive) (4.6)\n",
            "Requirement already satisfied: cachetools<5.0,>=2.0.0 in /usr/local/lib/python3.6/dist-packages (from google-auth>=1.4.1->google-api-python-client>=1.2->PyDrive) (4.2.0)\n",
            "Requirement already satisfied: setuptools>=40.3.0 in /usr/local/lib/python3.6/dist-packages (from google-auth>=1.4.1->google-api-python-client>=1.2->PyDrive) (51.0.0)\n"
          ],
          "name": "stdout"
        }
      ]
    },
    {
      "cell_type": "code",
      "metadata": {
        "colab": {
          "base_uri": "https://localhost:8080/"
        },
        "id": "7sTXISW6L7aU",
        "outputId": "a897aaf9-5422-481d-9cc3-a5a9a15c0a71"
      },
      "source": [
        "from google.colab import drive \n",
        "drive.mount('/content/drive')"
      ],
      "execution_count": null,
      "outputs": [
        {
          "output_type": "stream",
          "text": [
            "Mounted at /content/drive\n"
          ],
          "name": "stdout"
        }
      ]
    },
    {
      "cell_type": "code",
      "metadata": {
        "id": "1JZh8ue_2sJ8",
        "colab": {
          "base_uri": "https://localhost:8080/",
          "height": 480
        },
        "outputId": "eea4a5e2-2542-4b36-d45e-b995ad9b85d6"
      },
      "source": [
        "!pip install git+https://github.com/tensorflow/docs\n",
        "\n",
        "import tensorflow_docs as tfdocs\n",
        "import tensorflow_docs.plots\n",
        "import tensorflow_docs.modeling\n",
        "import tensorflow as tf\n",
        "import matplotlib.pyplot as plt\n",
        "\n",
        "from nltk.corpus import PlaintextCorpusReader\n",
        "from nltk.corpus.reader import CHILDESCorpusReader\n",
        "import numpy as np\n",
        "import pandas as pd\n",
        "from pandas import DataFrame\n",
        "from nltk.probability import FreqDist\n",
        "import string\n",
        "from nltk.stem.wordnet import WordNetLemmatizer\n",
        "\n",
        "import matplotlib.pyplot as plt\n",
        "from scipy import stats\n",
        "import itertools\n",
        "\n",
        "from scipy import optimize\n",
        "from scipy.optimize import curve_fit\n",
        "import seaborn as sns\n",
        "import matplotlib.pyplot as plt\n",
        "from numpy import log as ln\n",
        "import tensorflow_addons as tfa\n",
        "\n",
        "import numpy\n",
        "import math\n",
        "from keras.preprocessing import sequence\n",
        "from keras.models import Sequential\n",
        "from keras.layers import Dense, Dropout, Activation,Flatten\n",
        "from keras.layers import LSTM, Bidirectional\n",
        "from tensorflow.keras.layers import Embedding, TimeDistributed\n",
        "from keras.layers import Conv1D,Conv2D, GlobalMaxPooling1D, GlobalMaxPooling2D\n",
        "from keras.initializers import Constant\n",
        "from tensorflow.keras.preprocessing.text import Tokenizer\n",
        "from tensorflow.keras.preprocessing.sequence import pad_sequences\n",
        "from nltk.corpus import stopwords\n",
        "from nltk.tokenize import word_tokenize\n",
        "import matplotlib.ticker as ticker\n",
        "from sklearn.model_selection import StratifiedKFold,train_test_split\n",
        "\n",
        "from sklearn.feature_extraction.text import TfidfTransformer\n",
        "from sklearn.feature_extraction.text import TfidfVectorizer\n",
        "from tensorflow import keras\n",
        "from tensorflow.keras import layers\n",
        "from keras.utils import to_categorical\n",
        "from sklearn.preprocessing import LabelEncoder, OneHotEncoder\n",
        "from gensim.models import Word2Vec\n",
        "from sklearn.decomposition import PCA\n",
        "from sklearn.utils import shuffle\n",
        "import gensim\n"
      ],
      "execution_count": null,
      "outputs": [
        {
          "output_type": "stream",
          "text": [
            "Collecting git+https://github.com/tensorflow/docs\n",
            "  Cloning https://github.com/tensorflow/docs to /tmp/pip-req-build-v9bhj79a\n",
            "  Running command git clone -q https://github.com/tensorflow/docs /tmp/pip-req-build-v9bhj79a\n",
            "Requirement already satisfied: astor in /usr/local/lib/python3.6/dist-packages (from tensorflow-docs===0.0.0430fe3be375a1f3f6267b86300e1c0f1d79b2b26-) (0.8.1)\n",
            "Requirement already satisfied: absl-py in /usr/local/lib/python3.6/dist-packages (from tensorflow-docs===0.0.0430fe3be375a1f3f6267b86300e1c0f1d79b2b26-) (0.10.0)\n",
            "Collecting protobuf>=3.14\n",
            "\u001b[?25l  Downloading https://files.pythonhosted.org/packages/fe/fd/247ef25f5ec5f9acecfbc98ca3c6aaf66716cf52509aca9a93583d410493/protobuf-3.14.0-cp36-cp36m-manylinux1_x86_64.whl (1.0MB)\n",
            "\u001b[K     |████████████████████████████████| 1.0MB 9.2MB/s \n",
            "\u001b[?25hRequirement already satisfied: pyyaml in /usr/local/lib/python3.6/dist-packages (from tensorflow-docs===0.0.0430fe3be375a1f3f6267b86300e1c0f1d79b2b26-) (3.13)\n",
            "Requirement already satisfied: dataclasses in /usr/local/lib/python3.6/dist-packages (from tensorflow-docs===0.0.0430fe3be375a1f3f6267b86300e1c0f1d79b2b26-) (0.8)\n",
            "Requirement already satisfied: six in /usr/local/lib/python3.6/dist-packages (from absl-py->tensorflow-docs===0.0.0430fe3be375a1f3f6267b86300e1c0f1d79b2b26-) (1.15.0)\n",
            "Building wheels for collected packages: tensorflow-docs\n",
            "  Building wheel for tensorflow-docs (setup.py) ... \u001b[?25l\u001b[?25hdone\n",
            "  Created wheel for tensorflow-docs: filename=tensorflow_docs-0.0.0430fe3be375a1f3f6267b86300e1c0f1d79b2b26_-cp36-none-any.whl size=146357 sha256=b83c69b71d7f9896eddf09c205941a4db7002b9e6b591a417da7d82c4b20befd\n",
            "  Stored in directory: /tmp/pip-ephem-wheel-cache-wyu_zsc4/wheels/eb/1b/35/fce87697be00d2fc63e0b4b395b0d9c7e391a10e98d9a0d97f\n",
            "Successfully built tensorflow-docs\n",
            "Installing collected packages: protobuf, tensorflow-docs\n",
            "  Found existing installation: protobuf 3.12.4\n",
            "    Uninstalling protobuf-3.12.4:\n",
            "      Successfully uninstalled protobuf-3.12.4\n",
            "Successfully installed protobuf-3.14.0 tensorflow-docs-0.0.0430fe3be375a1f3f6267b86300e1c0f1d79b2b26-\n"
          ],
          "name": "stdout"
        },
        {
          "output_type": "display_data",
          "data": {
            "application/vnd.colab-display-data+json": {
              "pip_warning": {
                "packages": [
                  "google"
                ]
              }
            }
          },
          "metadata": {
            "tags": []
          }
        }
      ]
    },
    {
      "cell_type": "code",
      "metadata": {
        "id": "cx_WsK_DMCPL"
      },
      "source": [
        "def plot_graphs(history, metric):\n",
        "    plt.plot(history.history[metric])\n",
        "    plt.plot(history.history['val_'+metric], '')\n",
        "    plt.xlabel(\"Epochs\")\n",
        "    plt.ylabel(metric)\n",
        "    plt.legend([metric, 'val_'+metric])\n",
        "    plt.show()"
      ],
      "execution_count": null,
      "outputs": []
    },
    {
      "cell_type": "markdown",
      "metadata": {
        "id": "h4mNbVuHAqkN"
      },
      "source": [
        "#**Getting Train and Test Data** \n",
        "---\n",
        "\n"
      ]
    },
    {
      "cell_type": "code",
      "metadata": {
        "colab": {
          "base_uri": "https://localhost:8080/"
        },
        "id": "CRumo0bI5UaU",
        "outputId": "8f035820-4c1a-4154-ff97-827e19fa918c"
      },
      "source": [
        "pip install num2words"
      ],
      "execution_count": null,
      "outputs": [
        {
          "output_type": "stream",
          "text": [
            "Collecting num2words\n",
            "\u001b[?25l  Downloading https://files.pythonhosted.org/packages/eb/a2/ea800689730732e27711c41beed4b2a129b34974435bdc450377ec407738/num2words-0.5.10-py3-none-any.whl (101kB)\n",
            "\r\u001b[K     |███▎                            | 10kB 16.1MB/s eta 0:00:01\r\u001b[K     |██████▌                         | 20kB 21.4MB/s eta 0:00:01\r\u001b[K     |█████████▊                      | 30kB 12.4MB/s eta 0:00:01\r\u001b[K     |█████████████                   | 40kB 9.8MB/s eta 0:00:01\r\u001b[K     |████████████████▏               | 51kB 5.3MB/s eta 0:00:01\r\u001b[K     |███████████████████▍            | 61kB 5.1MB/s eta 0:00:01\r\u001b[K     |██████████████████████▋         | 71kB 5.5MB/s eta 0:00:01\r\u001b[K     |█████████████████████████▉      | 81kB 6.0MB/s eta 0:00:01\r\u001b[K     |█████████████████████████████   | 92kB 6.5MB/s eta 0:00:01\r\u001b[K     |████████████████████████████████| 102kB 3.4MB/s \n",
            "\u001b[?25hRequirement already satisfied: docopt>=0.6.2 in /usr/local/lib/python3.6/dist-packages (from num2words) (0.6.2)\n",
            "Installing collected packages: num2words\n",
            "Successfully installed num2words-0.5.10\n"
          ],
          "name": "stdout"
        }
      ]
    },
    {
      "cell_type": "code",
      "metadata": {
        "id": "ZPM_73jc5USa"
      },
      "source": [
        "from num2words import num2words\n",
        "language_list = [\"en\",\"de\",\"es\",\"fr\",\"id\",\"it\",\"ja\",\"ko\",\"lt\",\"lv\",\"pl\",\"ru\",\"tr\",\"th\",\"vi\"]"
      ],
      "execution_count": null,
      "outputs": []
    },
    {
      "cell_type": "code",
      "metadata": {
        "id": "mEqrFYSn84ky"
      },
      "source": [
        "import numpy as np\n",
        "from numpy.random import RandomState\n",
        "import numpy as np\n",
        "import pandas as pd\n",
        "from pandas import DataFrame\n",
        "from nltk.probability import FreqDist\n",
        "import string\n",
        "from nltk.stem.wordnet import WordNetLemmatizer\n",
        "\n",
        "import matplotlib.pyplot as plt\n",
        "from scipy import stats\n",
        "import itertools"
      ],
      "execution_count": null,
      "outputs": []
    },
    {
      "cell_type": "code",
      "metadata": {
        "id": "jARGPPSsUFEL"
      },
      "source": [
        "def generate_train_numbers(seed, max_factor, k):\n",
        "  train = RandomState(seed)\n",
        "  trainsample = [list(range(0,101))]\n",
        "  for i in range(2, max_factor):\n",
        "    sample = train.randint((10**i)+1, 10**(i+1)-1, k)\n",
        "    trainsample.append(sample)\n",
        "  result = list(itertools.chain(*trainsample)) \n",
        "  return result\n",
        "def generate_test_numbers(seed, max_factor, s, k):\n",
        "  test = RandomState(seed)\n",
        "  testsample = [list(test.randint(0, 100, s))]\n",
        "  for i in range (2, max_factor):\n",
        "    sample = list(test.randint((10**i)+1, 10**(i+1)-1, k))\n",
        "    testsample.append(sample)\n",
        "  result = list(itertools.chain(*testsample))\n",
        "  return result"
      ],
      "execution_count": null,
      "outputs": []
    },
    {
      "cell_type": "code",
      "metadata": {
        "id": "Rd224jNcS5Lw"
      },
      "source": [
        "def num_name_pair (language, train_data):\n",
        "  num_pair = [language]\n",
        "  for num in train_data:\n",
        "    name = num2words(num, lang=language)\n",
        "    num_pair.append(name)\n",
        "  return num_pair"
      ],
      "execution_count": null,
      "outputs": []
    },
    {
      "cell_type": "code",
      "metadata": {
        "id": "wb45Heln6jwo"
      },
      "source": [
        "small_size_name = []\n",
        "small_size_num = generate_train_numbers(198, 7, 500)\n",
        "for lng in language_list:\n",
        "  nampair = num_name_pair(lng, small_size_num)\n",
        "  small_size_name.append(nampair)"
      ],
      "execution_count": null,
      "outputs": []
    },
    {
      "cell_type": "code",
      "metadata": {
        "id": "n2p9J7EzvE1V"
      },
      "source": [
        "big_size_name = []\n",
        "big_size_num = generate_train_numbers(44, 7, 1000)\n",
        "for lng in language_list:\n",
        "  nampair = num_name_pair(lng, big_size_num)\n",
        "  big_size_name.append(nampair)\n",
        "  print(lng)"
      ],
      "execution_count": null,
      "outputs": []
    },
    {
      "cell_type": "code",
      "metadata": {
        "id": "Wq3EORf-qx95"
      },
      "source": [
        "test_name = []\n",
        "test_num = generate_test_numbers(166, 7, 50 ,100)\n",
        "for lng in language_list:\n",
        "  nampair = num_name_pair(lng,test_num)\n",
        "  test_name.append(nampair)"
      ],
      "execution_count": null,
      "outputs": []
    },
    {
      "cell_type": "code",
      "metadata": {
        "id": "DckZsvgg2JzD"
      },
      "source": [
        "test_name2 = []\n",
        "test_num2 = generate_test_numbers(987, 7, 50 ,100)\n",
        "for lng in language_list:\n",
        "  nampair = num_name_pair(lng,test_num)\n",
        "  test_name2.append(nampair)"
      ],
      "execution_count": null,
      "outputs": []
    },
    {
      "cell_type": "code",
      "metadata": {
        "colab": {
          "base_uri": "https://localhost:8080/"
        },
        "id": "ZeqObrzzxWk_",
        "outputId": "a4db477c-a242-4985-c8c8-6f29d996a0e1"
      },
      "source": [
        "print('small size train:', len(small_size_name[9]),'big size train:', len(big_size_name[9]), 'test size:', len(test_name[9]))"
      ],
      "execution_count": null,
      "outputs": [
        {
          "output_type": "stream",
          "text": [
            "small size train: 602 big size train: 5102 test size: 551\n"
          ],
          "name": "stdout"
        }
      ]
    },
    {
      "cell_type": "code",
      "metadata": {
        "id": "rTLbVXWnPg1G"
      },
      "source": [
        "def unit1 (i):\n",
        "  ge = str(i)\n",
        "  return ge\n",
        "def unit2 (i):\n",
        "  ge = i%10\n",
        "  shi = i//10 *10\n",
        "  return '|'. join([str(shi), '+', str(ge)])\n",
        "def unit3 (i):\n",
        "  bai = i//100\n",
        "  shi = (i - bai*100)//10*10\n",
        "  ge = i - bai*100 - shi\n",
        "  sepk = '|'.join([str(bai), 'x', '100', '+', str(shi), '+', str(ge)])\n",
        "  return sepk\n",
        "def get_segment (train, alphabet):\n",
        "  segmentlist = []\n",
        "  for i in train:\n",
        "    if i in alphabet:\n",
        "      name = str(i)\n",
        "      segmentlist.append([i, name])\n",
        "    if i not in alphabet:\n",
        "      if len(str(i)) == 2:\n",
        "        name = unit2(i)\n",
        "        segmentlist.append([i, name])\n",
        "      if len(str(i)) == 3:\n",
        "        name = unit3(i)\n",
        "        segmentlist.append([i, name])\n",
        "      if len(str(i)) == 4:\n",
        "        ge = i//10**3\n",
        "        u3 = i - ge*10**3\n",
        "        name =  '|'.join([unit1(ge), 'x', '1000', '+', unit3(u3)])\n",
        "        segmentlist.append([i,name])\n",
        "      if len(str(i)) == 5:\n",
        "        shi = i//10**3\n",
        "        u3 = i - shi*10**3\n",
        "        name = '|'.join([unit2(shi), 'x', '1000', '+', unit3(u3)])\n",
        "        segmentlist.append([i,name])\n",
        "      if len(str(i)) == 6:\n",
        "        bai = i//10**3\n",
        "        u3 = i - bai*10**3\n",
        "        name = '|'.join([unit3(bai), 'x', '1000', '+', unit3(u3)])\n",
        "        segmentlist.append([i,name])\n",
        "      if len(str(i)) == 7:\n",
        "        ge = i//10**6\n",
        "        bai = (i - ge*10**6)//10**3\n",
        "        u3 = i - ge*10**6 - bai*10**3\n",
        "        name = '|'.join([unit1(ge), 'x', '$', '+', unit3(bai), 'x', '1000', '+', unit3(u3)])\n",
        "        segmentlist.append([i,name])\n",
        "  return segmentlist"
      ],
      "execution_count": null,
      "outputs": []
    },
    {
      "cell_type": "code",
      "metadata": {
        "id": "TOjYQ8SYAjMb"
      },
      "source": [
        "def get_df(number, segment, name):\n",
        "  dfname = pd.DataFrame(name).T\n",
        "  dfname.rename(columns = dfname.iloc[0], inplace = True)\n",
        "  dfname.drop(dfname.index[0], inplace = True)\n",
        "  dfname['number'] = number\n",
        "  dfseg = pd.DataFrame(segment, columns = ['number', 'segment'])\n",
        "  df = dfseg.merge(dfname, how = 'left', left_on = 'number', right_on = 'number')\n",
        "  df['number'] = df['number'].astype(str)\n",
        "  return df"
      ],
      "execution_count": null,
      "outputs": []
    },
    {
      "cell_type": "code",
      "metadata": {
        "id": "6I4qJoW6rMKx"
      },
      "source": [
        "number_vocab = ['0','1','2','3','4','5','6','7','8','9','10','11','12',\n",
        "'13','14','15','16','17','18','19','20','30','40','50',\n",
        "'60','70','80','90','100','1000','1000000','']\n",
        "segment_vocab = ['0','1','2','3','4','5','6','7','8','9','10','11','12',\n",
        "'13','14','15','16','17','18','19','20','30','40','50',\n",
        "'60','70','80','90','100','1000','$','x','+',' ']\n",
        "big_size_segment = get_segment(big_size_num, number_vocab)\n",
        "small_size_segment = get_segment(small_size_num, number_vocab)\n",
        "test_segment = get_segment(test_num, number_vocab)\n",
        "test_segment2 = get_segment(test_num2, number_vocab)"
      ],
      "execution_count": null,
      "outputs": []
    },
    {
      "cell_type": "code",
      "metadata": {
        "id": "Z__nm6kdAQUq"
      },
      "source": [
        "df_small_train_name = pd.DataFrame(big_size_name).T\n",
        "df_small_train_name.rename(columns=df_small_train_name.iloc[0], inplace = True)\n",
        "df_small_train_name.drop(df_small_train_name.index[0], inplace = True)\n"
      ],
      "execution_count": null,
      "outputs": []
    },
    {
      "cell_type": "code",
      "metadata": {
        "id": "T-Yjs7xiAlvn"
      },
      "source": [
        "df_big_size = get_df(big_size_num, big_size_segment, big_size_name)\n",
        "df_small_size = get_df(small_size_num, small_size_segment, small_size_name)\n",
        "df_test = get_df(test_num, test_segment, test_name)\n",
        "df_test2 = get_df(test_num2, test_segment2, test_name2)"
      ],
      "execution_count": null,
      "outputs": []
    },
    {
      "cell_type": "code",
      "metadata": {
        "id": "4yUmqhBWFZDx"
      },
      "source": [
        "df_big_size.to_csv('5102big_size_train.csv')\n",
        "df_small_size.to_csv('602small_size_train.csv')\n",
        "df_test.to_csv('551test1.csv')\n",
        "df_test2.to_csv('551test2.csv')\n",
        "\n",
        "!cp '5102big_size_train.csv' \"/content/drive/My Drive/Writing system\"\n",
        "!cp '602small_size_train.csv' \"/content/drive/My Drive/Writing system\"\n",
        "!cp '551test1.csv' \"/content/drive/My Drive/Writing system\"\n",
        "!cp '551test2.csv' \"/content/drive/My Drive/Writing system\""
      ],
      "execution_count": null,
      "outputs": []
    },
    {
      "cell_type": "markdown",
      "metadata": {
        "id": "_L9a_tbnGgcT"
      },
      "source": [
        "\n",
        "# **Text Preprocess**\n",
        "---\n",
        "\n"
      ]
    },
    {
      "cell_type": "markdown",
      "metadata": {
        "id": "N089szWdbAo7"
      },
      "source": [
        "###**Number and Segment**\n"
      ]
    },
    {
      "cell_type": "code",
      "metadata": {
        "id": "ur-l-TpOSH0F"
      },
      "source": [
        "def tokenized (num, seg, alp1, alp2):\n",
        "  num_max_length = max([len(n) for n in num])\n",
        "  seg_max_length = max([len(s) for s in seg])\n",
        "  char_to_int1 = dict((c, i) for i,c in enumerate(alp1))\n",
        "  char_to_int2 = dict((c, i) for i,c in enumerate(alp2))\n",
        "  num_int = []\n",
        "  seg_int = []\n",
        "  num_pad = list()\n",
        "  seg_pad = list()\n",
        "  for n in num:\n",
        "    strn = '|'.join(nn for nn in n )\n",
        "    strn = ''.join(['|' for _ in range(num_max_length - len(n))]) + strn\n",
        "    num_pad.append(strn)\n",
        "  for s in seg:\n",
        "    leng = len(s.split('|'))\n",
        "    string = ''.join([' |' for _ in range(seg_max_length - leng)]) + s\n",
        "    seg_pad.append(string)\n",
        "  for pad1, pad2 in zip(num_pad, seg_pad):\n",
        "    num_integer = [char_to_int1[char] for char in pad1.split('|')]\n",
        "    seg_integer = [char_to_int2[char] for char in pad2.split('|')]\n",
        "    num_int.append(num_integer)\n",
        "    seg_int.append(seg_integer)\n",
        "  tensornum = tf.convert_to_tensor(num_int, dtype=tf.int64)\n",
        "  tensorseg = tf.convert_to_tensor(seg_int, dtype=tf.int64)\n",
        "  return tensornum, tensorseg\n",
        "def invert(tokenized, alphabet):\n",
        "\tint_to_char = dict((i, c) for i, c in enumerate(alphabet))\n",
        "\tstrings = list()\n",
        "\tfor pattern in tokenized:\n",
        "\t\tstring = int_to_char[pattern]\n",
        "\t\tstrings.append(string)\n",
        "\treturn ''.join(strings)"
      ],
      "execution_count": null,
      "outputs": []
    },
    {
      "cell_type": "code",
      "metadata": {
        "id": "0Ffp9hiXRDBX"
      },
      "source": [
        "train_bs_num, train_bs_seg = tokenized(df_big_size['number'],df_big_size['segment'], number_vocab, segment_vocab )\n",
        "train_ss_num, train_ss_seg = tokenized(df_small_size['number'],df_small_size['segment'], number_vocab, segment_vocab)"
      ],
      "execution_count": null,
      "outputs": []
    },
    {
      "cell_type": "code",
      "metadata": {
        "id": "K4kzitK6Kr3Z"
      },
      "source": [
        "test1_num, test1_seg = tokenized(df_test['number'], df_test['segment'], number_vocab, segment_vocab)\n",
        "test2_num, test2_seg = tokenized(df_test2['number'], df_test2['segment'], number_vocab, segment_vocab)"
      ],
      "execution_count": null,
      "outputs": []
    },
    {
      "cell_type": "code",
      "metadata": {
        "colab": {
          "base_uri": "https://localhost:8080/"
        },
        "id": "esXdd_PFeMhO",
        "outputId": "37c4b669-a74f-436d-f42c-986c368e5edc"
      },
      "source": [
        "print('big size number shape:', train_bs_num.shape, 'big size segment shape:', train_bs_seg.shape)"
      ],
      "execution_count": null,
      "outputs": [
        {
          "output_type": "stream",
          "text": [
            "big size number shape: (6295, 7) big size segment shape: (6295, 50)\n"
          ],
          "name": "stdout"
        }
      ]
    },
    {
      "cell_type": "code",
      "metadata": {
        "colab": {
          "base_uri": "https://localhost:8080/"
        },
        "id": "5dOC2EsaaL9H",
        "outputId": "6fd99d8c-3518-4c73-81ec-1a49996b7eac"
      },
      "source": [
        "print('small size number shape:', train_ss_num.shape, 'small size segment shape:', train_ss_seg.shape)"
      ],
      "execution_count": null,
      "outputs": [
        {
          "output_type": "stream",
          "text": [
            "small size number shape: (597, 7) small size segment shape: (597, 50)\n"
          ],
          "name": "stdout"
        }
      ]
    },
    {
      "cell_type": "code",
      "metadata": {
        "colab": {
          "base_uri": "https://localhost:8080/"
        },
        "id": "K9qGNIL9K4Yf",
        "outputId": "3398ff80-e6a9-4b14-acab-0ab6231d6641"
      },
      "source": [
        "print('test number shape:', test1_num.shape, 'test segment shape:', test1_seg.shape)"
      ],
      "execution_count": null,
      "outputs": [
        {
          "output_type": "stream",
          "text": [
            "test number shape: (593, 7) test segment shape: (593, 50)\n"
          ],
          "name": "stdout"
        }
      ]
    },
    {
      "cell_type": "markdown",
      "metadata": {
        "id": "jYrKdWEtbSo8"
      },
      "source": [
        "###**Names in different languages**\n",
        "en (English, default)\n",
        "*ar (Arabic)*\n",
        "cz (Czech)\n",
        "de (German)\n",
        "dk (Danish)\n",
        "es (Spanish)\n",
        "fi (Finnish)\n",
        "fr (French)\n",
        "he (Hebrew) (no million)\n",
        "id (Indonesian)\n",
        "it (Italian)\n",
        "*ja (Japanese)*\n",
        "kn (Kannada)\n",
        "*ko (Korean)*\n",
        "lt (Lithuanian)\n",
        "lv (Latvian)\n",
        "no (Norwegian)\n",
        "pl (Polish)\n",
        "pt (Portuguese)\n",
        "sl (Slovene)\n",
        "sr (Serbian)\n",
        "ro (Romanian)\n",
        "ru (Russian)\n",
        "sl (Slovene)\n",
        "tr (Turkish)\n",
        "th (Thai)\n",
        "vi (Vietnamese)\n",
        "nl (Dutch)\n",
        "uk (Ukrainian)\n",
        "\n",
        "hundred, thousand, million: english, czech, german, danish, spanish, french,indonesian, lithuanian, latvian, polish, portuguese, turkish, russian, thai\n",
        "\n",
        "bai, qian, wan, shi wan, bai wan: Japanese, Korean\n",
        "\n",
        "tens + digit: english, Czech, Spanish ('y'), finish, french (et un), indonesian, italian, japanese, lituanian, latvian, norweigian (no space for tens, og for 0), polish, portugese ('y'), turkish, russian, thai\n",
        "\n",
        "digit + tens: arabic, german ('und'), danish ('og'), slovene('in')\n",
        "\n",
        "No space: japanese, korean, German, Danish, finish, italian, norweigian (no space under 100) slovenen(no space under 100), thai"
      ]
    },
    {
      "cell_type": "code",
      "metadata": {
        "id": "XCZM2XE7DKMB"
      },
      "source": [
        "def get_language_data (data):\n",
        "  lang_alpha = dict()\n",
        "  language_name = dict()\n",
        "  for l in language_list:\n",
        "    alphabet = [' ']\n",
        "    for i in number_vocab[0:-1]:\n",
        "      letter = num2words(int(i), lang = l)\n",
        "      alphabet.append(letter)\n",
        "    lang_alpha.setdefault(l, alphabet)\n",
        "    bs = data[l].values\n",
        "    language_name.setdefault(l, bs)\n",
        "  return lang_alpha, language_name"
      ],
      "execution_count": null,
      "outputs": []
    },
    {
      "cell_type": "code",
      "metadata": {
        "id": "W7MG0dLgDQEP"
      },
      "source": [
        "bs_language_alphabet, bs_language_name = get_language_data(df_big_size)\n",
        "ss_language_alphabet, ss_language_name = get_language_data(df_small_size)\n",
        "test_language_alphabet, test_language_name = get_language_data(df_test)"
      ],
      "execution_count": null,
      "outputs": []
    },
    {
      "cell_type": "code",
      "metadata": {
        "id": "uSPeqD9gFrug"
      },
      "source": [
        "###the 10000 language\n",
        "bs_language_alphabet['ja'].append('万')\n",
        "bs_language_alphabet['ko'].append('만')\n",
        "bs_language_alphabet['vi'].append('mười nghìn')"
      ],
      "execution_count": null,
      "outputs": []
    },
    {
      "cell_type": "code",
      "metadata": {
        "id": "mmqgKs_LGcaj"
      },
      "source": [
        "#### adding 'and' language\n",
        "bs_language_alphabet['en'].append('and')\n",
        "bs_language_alphabet['fr'].append('et')\n",
        "bs_language_alphabet['es'].append('y')\n",
        "bs_language_alphabet['pt'].append('y')\n",
        "bs_language_alphabet['ro'].append('și')"
      ],
      "execution_count": null,
      "outputs": []
    },
    {
      "cell_type": "code",
      "metadata": {
        "id": "EXsipGps1dbl"
      },
      "source": [
        "bs_language_alphabet['fr'].append('y')\n",
        "bs_language_alphabet['fr'].remove(' ')"
      ],
      "execution_count": null,
      "outputs": []
    },
    {
      "cell_type": "code",
      "metadata": {
        "id": "t0Rihhks1HuJ"
      },
      "source": [
        "english_vocab = ['zero', 'one', 'two', 'three', 'four', 'five', 'six', 'seven', 'eight', 'nine', 'ten', 'eleven', 'twelve', 'thirteen', 'fourteen', 'fifteen', 'sixteen', 'seventeen', 'eighteen', 'nineteen', 'twenty', 'thirty', 'forty', 'fifty', 'sixty', 'seventy', 'eighty', 'ninety', 'hundred', 'thousand', 'million', 'and']\n",
        "english_bs = bs_language_name['en']\n",
        "english_ss = ss_language_name['en']\n",
        "english_test1 = test_language_name['en']\n",
        "english_test2 = get_language_data(df_test2)[1]['en']"
      ],
      "execution_count": null,
      "outputs": []
    },
    {
      "cell_type": "code",
      "metadata": {
        "id": "jcNBVZ_sB1vY"
      },
      "source": [
        "english_test2 = get_language_data(df_test2)[1]['en']"
      ],
      "execution_count": null,
      "outputs": []
    },
    {
      "cell_type": "code",
      "metadata": {
        "id": "9mwcuVEZ_5UG"
      },
      "source": [
        "def clean_name(name, spl):\n",
        "  list1 = []\n",
        "  for i in name:\n",
        "    ilist = re.split(spl, i)\n",
        "    kk = [ii for ii in ilist if ii]\n",
        "    list1.append(kk)\n",
        "  return list1\n",
        "def language_dict(vocab):\n",
        "  char_to_int = dict((c,i+3) for i,c in enumerate(vocab))\n",
        "  char_to_int['<PAD>'] = 0\n",
        "  char_to_int['<S>'] = 1\n",
        "  char_to_int['<E>'] = 2\n",
        "  char_to_int_invert = {v:k for k, v in char_to_int.items()}\n",
        "  return char_to_int, char_to_int_invert \n",
        "def encode (namelist, dictionary):\n",
        "  maxlen = max(len(i) for i in namelist)\n",
        "  encode_tokens = [['<S>'] + ['<PAD>'] * (maxlen - len(token)) + token + ['<E>'] for token in namelist]\n",
        "  encode_input = [list(map(lambda x: dictionary[x], token)) for token in encode_tokens]\n",
        "  return encode_input"
      ],
      "execution_count": null,
      "outputs": []
    },
    {
      "cell_type": "code",
      "metadata": {
        "id": "-B8P3M_yJAMk"
      },
      "source": [
        "def decode (namelist, dictionary):\n",
        "  maxlen = max(len(i) for i in namelist)\n",
        "  decode_tokens = [['<S>'] + ['<PAD>'] * (maxlen - len(token)) + token + ['<E>'] for token in namelist]\n",
        "  output_tokens = [['<PAD>'] * (maxlen - len(token)+1) + token + ['<E>'] for token in namelist]\n",
        "  decode_input = [list(map(lambda x: dictionary[x], token)) for token in decode_tokens]\n",
        "  decode_output = [list(map(lambda x: [dictionary[x]], token)) for token in output_tokens]\n",
        "  return decode_input, decode_output"
      ],
      "execution_count": null,
      "outputs": []
    },
    {
      "cell_type": "code",
      "metadata": {
        "id": "F3ONC2T5CgEn"
      },
      "source": [
        "ssss = df_test2['segment'].values"
      ],
      "execution_count": null,
      "outputs": []
    },
    {
      "cell_type": "code",
      "metadata": {
        "id": "3B3N8hFSC4-3"
      },
      "source": [
        "clean_name(ssss, '\\\\|')"
      ],
      "execution_count": null,
      "outputs": []
    },
    {
      "cell_type": "code",
      "metadata": {
        "id": "bkOZRvLdCty1"
      },
      "source": [
        "df_test2['segment'][489].split('|')"
      ],
      "execution_count": null,
      "outputs": []
    },
    {
      "cell_type": "code",
      "metadata": {
        "id": "rllD8WFzD99j"
      },
      "source": [
        "segment_dict, segment_dict_inver = language_dict(segment_vocab)\n",
        "segment_encode_input_bs = encode(clean_name(df_big_size['segment'].values,'\\\\|'), segment_dict)\n",
        "segment_encode_input_ss = encode(clean_name(df_small_size['segment'].values,'\\\\|'), segment_dict)\n",
        "segment_test1_encode_input = encode(clean_name(df_test['segment'].values,'\\\\|'), segment_dict)\n",
        "segment_test2_encode_input = encode(clean_name(df_test2['segment'].values,'\\\\|'), segment_dict)\n"
      ],
      "execution_count": null,
      "outputs": []
    },
    {
      "cell_type": "code",
      "metadata": {
        "id": "eOyXYj3IBLz7"
      },
      "source": [
        "english_dict, english_dict_inver = language_dict(english_vocab)\n",
        "english_decode_input_bs, english_decode_output_bs = decode(clean_name(english_bs, '\\s|-|,'), english_dict)\n",
        "english_decode_input_ss, english_decode_output_ss = decode(clean_name(english_ss, '\\s|-|,'), english_dict)\n",
        "english_decode_input_test1, english_decode_output_test1 = decode(clean_name(english_test1, '\\s|-|,'), english_dict)\n",
        "english_decode_input_test2, english_decode_output_test2 = decode(clean_name(english_test2, '\\s|-|,'), english_dict)\n"
      ],
      "execution_count": null,
      "outputs": []
    },
    {
      "cell_type": "code",
      "metadata": {
        "id": "lKZ_0ruf5ykh"
      },
      "source": [
        "english_train_ss = encode(clean_name(english_ss, '\\s|-|,'))\n",
        "english_test_data1 = encode(clean_name(english_test1, '\\s|-|,'))\n",
        "english_test_data2 = encode(clean_name(english_test2, '\\s|-|,'))"
      ],
      "execution_count": null,
      "outputs": []
    },
    {
      "cell_type": "code",
      "metadata": {
        "id": "2IUk47kg68M2"
      },
      "source": [
        "char_to_int = dict((c,i+3) for i,c in enumerate(english_vocab))\n",
        "char_to_int['<PAD>'] = 0\n",
        "char_to_int['<S>'] = 1\n",
        "char_to_int['<E>'] = 2\n",
        "char_to_int"
      ],
      "execution_count": null,
      "outputs": []
    },
    {
      "cell_type": "code",
      "metadata": {
        "id": "HfLWtvJe7MIT"
      },
      "source": [
        "char_to_int_invert = {v:k for k, v in char_to_int.items()}"
      ],
      "execution_count": null,
      "outputs": []
    },
    {
      "cell_type": "code",
      "metadata": {
        "colab": {
          "base_uri": "https://localhost:8080/",
          "height": 35
        },
        "id": "rZhm2dr89KTi",
        "outputId": "d30c9717-18e9-444e-e546-f4d9f3f7bd89"
      },
      "source": [
        "char_to_int_invert[0]"
      ],
      "execution_count": null,
      "outputs": [
        {
          "output_type": "execute_result",
          "data": {
            "application/vnd.google.colaboratory.intrinsic+json": {
              "type": "string"
            },
            "text/plain": [
              "'<PAD>'"
            ]
          },
          "metadata": {
            "tags": []
          },
          "execution_count": 151
        }
      ]
    },
    {
      "cell_type": "code",
      "metadata": {
        "id": "uRowylrY-rs2"
      },
      "source": [
        "encode_tokens"
      ],
      "execution_count": null,
      "outputs": []
    },
    {
      "cell_type": "code",
      "metadata": {
        "id": "YYM990aY8E2Y"
      },
      "source": [
        "maxlen = max(len(i) for i in englist1)\n",
        "encode_tokens = [['<S>'] + ['<PAD>'] * (maxlen - len(token)) + token + ['<E>'] for token in englist1]\n"
      ],
      "execution_count": null,
      "outputs": []
    },
    {
      "cell_type": "code",
      "metadata": {
        "id": "NiHPg4cI-qvX"
      },
      "source": [
        "encode_input"
      ],
      "execution_count": null,
      "outputs": []
    },
    {
      "cell_type": "code",
      "metadata": {
        "id": "y53ViMb2_Xat"
      },
      "source": [
        "encode_input = [list(map(lambda x: char_to_int[x], token)) for token in encode_tokens]\n",
        "encode_input"
      ],
      "execution_count": null,
      "outputs": []
    },
    {
      "cell_type": "code",
      "metadata": {
        "id": "hlbjnWNw-Ekn"
      },
      "source": [
        "def space_tokenize(alphabet, name):\n",
        "  token = tf.keras.preprocessing.text.Tokenizer(split = ' ', char_level= False)\n",
        "  token.fit_on_texts(alphabet)\n",
        "  seq = token.texts_to_sequences(name)\n",
        "  pad_seq = tf.keras.preprocessing.sequence.pad_sequences(seq, padding = 'pre')\n",
        "  tensorseg = tf.convert_to_tensor(pad_seq, dtype=tf.int64)\n",
        "  return tensorseg\n",
        "def nospace_tokenize(alphabet, name):\n",
        "  t = tf.keras.preprocessing.text.Tokenizer(char_level= True)\n",
        "  t.fit_on_texts(alphabet)\n",
        "  seq = t.texts_to_sequences(name)\n",
        "  pad_seq = tf.keras.preprocessing.sequence.pad_sequences(seq, padding = 'pre')\n",
        "  tensorseg = tf.convert_to_tensor(pad_seq, dtype=tf.int64)\n",
        "  return tensorseg"
      ],
      "execution_count": null,
      "outputs": []
    },
    {
      "cell_type": "code",
      "metadata": {
        "colab": {
          "base_uri": "https://localhost:8080/"
        },
        "id": "eE0d7UhBzB2X",
        "outputId": "5ae72511-58e2-45d4-d31d-db82ab37c639"
      },
      "source": [
        "token = tf.keras.preprocessing.text.Tokenizer(filters = '-', split = ' ', char_level=False)\n",
        "token.fit_on_texts(bs_language_alphabet['en'])\n",
        "seq = token.texts_to_sequences(df_big_size['en'].values)\n",
        "tf.keras.preprocessing.sequence.pad_sequences(seq, padding = 'pre', value = )"
      ],
      "execution_count": null,
      "outputs": [
        {
          "output_type": "execute_result",
          "data": {
            "text/plain": [
              "array([[99, 99, 99, ..., 99, 99, 11],\n",
              "       [99, 99, 99, ..., 99, 99, 12],\n",
              "       [99, 99, 99, ..., 99, 99, 13],\n",
              "       ...,\n",
              "       [10,  8, 29, ..., 32, 24,  7],\n",
              "       [ 8,  4, 29, ..., 32, 22,  4],\n",
              "       [99,  4,  3, ..., 32, 21,  8]], dtype=int32)"
            ]
          },
          "metadata": {
            "tags": []
          },
          "execution_count": 309
        }
      ]
    },
    {
      "cell_type": "code",
      "metadata": {
        "id": "yF_ixC9r1kJP"
      },
      "source": [
        "bs_language_alphabet['en'].append('-')"
      ],
      "execution_count": null,
      "outputs": []
    },
    {
      "cell_type": "code",
      "metadata": {
        "id": "LGxkLivSCf6L"
      },
      "source": [
        "space = ['en', 'cz', 'fr', 'es', 'id', 'lt', 'lv', 'pl', 'pt', 'ru', 'tr', 'vi', 'ro']\n",
        "nspace = ['de', 'ko', 'ja', 'fi', 'it', 'no', 'sl', 'th']\n",
        "bs_name_list = dict()\n",
        "for sp_l in space:\n",
        "  name = space_tokenize(bs_language_alphabet[sp_l], bs_language_name[sp_l])\n",
        "  bs_name_list.setdefault(sp_l, name)\n",
        "for nsp_l in nspace:\n",
        "  name = nospace_tokenize(bs_language_alphabet[nsp_l], bs_language_name[nsp_l])\n",
        "  bs_name_list.update({nsp_l: name})"
      ],
      "execution_count": null,
      "outputs": []
    },
    {
      "cell_type": "code",
      "metadata": {
        "id": "hKhuHYfAa86A"
      },
      "source": [
        "ss_name_list = dict()\n",
        "for sp_l in space:\n",
        "  name = space_tokenize(ss_language_alphabet[sp_l], ss_langauge_name[sp_l])\n",
        "  ss_name_list.setdefault(sp_l, name)\n",
        "for nsp_l in nspace:\n",
        "  name = nospace_tokenize(ss_language_alphabet[nsp_l], ss_langauge_name[nsp_l])\n",
        "  ss_name_list.update({nsp_l: name})"
      ],
      "execution_count": null,
      "outputs": []
    },
    {
      "cell_type": "code",
      "metadata": {
        "id": "RD5i-GdJa9cO"
      },
      "source": [
        "test_name_list = dict()\n",
        "for sp_l in space:\n",
        "  name = space_tokenize(test_language_alphabet[sp_l], test_language_name[sp_l])\n",
        "  test_name_list.setdefault(sp_l, name)\n",
        "for nsp_l in nspace:\n",
        "  name = nospace_tokenize(test_language_alphabet[nsp_l], test_language_name[nsp_l])\n",
        "  test_name_list.update({nsp_l: name})"
      ],
      "execution_count": null,
      "outputs": []
    },
    {
      "cell_type": "code",
      "metadata": {
        "colab": {
          "base_uri": "https://localhost:8080/"
        },
        "id": "Ny6x9lj7a9G8",
        "outputId": "2042806f-e4f5-4de0-c495-6f33c0376eea"
      },
      "source": [
        "test_name_list['no']"
      ],
      "execution_count": null,
      "outputs": [
        {
          "output_type": "execute_result",
          "data": {
            "text/plain": [
              "<tf.Tensor: shape=(593, 65), dtype=int64, numpy=\n",
              "array([[ 8,  2, 11, ...,  0,  0,  0],\n",
              "       [ 3,  4,  1, ...,  0,  0,  0],\n",
              "       [16,  1,  1, ...,  0,  0,  0],\n",
              "       ...,\n",
              "       [ 3,  4, 15, ...,  0,  0,  0],\n",
              "       [ 1,  7,  2, ...,  3,  0,  0],\n",
              "       [ 5, 13, 14, ...,  3,  4,  0]])>"
            ]
          },
          "metadata": {
            "tags": []
          },
          "execution_count": 40
        }
      ]
    },
    {
      "cell_type": "code",
      "metadata": {
        "colab": {
          "base_uri": "https://localhost:8080/"
        },
        "id": "CbhoQ6mNa7bW",
        "outputId": "7fb45437-08f9-414f-ed3e-d446f96bed21"
      },
      "source": [
        "train_bs_num"
      ],
      "execution_count": null,
      "outputs": [
        {
          "output_type": "execute_result",
          "data": {
            "text/plain": [
              "<tf.Tensor: shape=(2899, 7), dtype=int64, numpy=\n",
              "array([[31, 31, 31, ..., 31,  1,  0],\n",
              "       [31, 31, 31, ..., 31,  1,  1],\n",
              "       [31, 31, 31, ..., 31,  1,  2],\n",
              "       ...,\n",
              "       [ 9,  7,  6, ...,  6,  5,  6],\n",
              "       [ 7,  3,  6, ...,  3,  3,  3],\n",
              "       [ 3,  2,  1, ...,  9,  2,  7]])>"
            ]
          },
          "metadata": {
            "tags": []
          },
          "execution_count": 41
        }
      ]
    },
    {
      "cell_type": "code",
      "metadata": {
        "colab": {
          "base_uri": "https://localhost:8080/"
        },
        "id": "vs_9Klebm4Je",
        "outputId": "0c79c728-0cb0-41a6-a48e-4d14e304d316"
      },
      "source": [
        "bs_name_list['en']"
      ],
      "execution_count": null,
      "outputs": [
        {
          "output_type": "execute_result",
          "data": {
            "text/plain": [
              "<tf.Tensor: shape=(2899, 13), dtype=int64, numpy=\n",
              "array([[11,  0,  0, ...,  0,  0,  0],\n",
              "       [12,  0,  0, ...,  0,  0,  0],\n",
              "       [13,  0,  0, ...,  0,  0,  0],\n",
              "       ...,\n",
              "       [10, 31,  8, ..., 32, 24,  7],\n",
              "       [ 8, 31,  4, ..., 32, 22,  4],\n",
              "       [ 4, 31,  3, ..., 21,  8,  0]])>"
            ]
          },
          "metadata": {
            "tags": []
          },
          "execution_count": 42
        }
      ]
    },
    {
      "cell_type": "markdown",
      "metadata": {
        "id": "MKsCJMuxOlX4"
      },
      "source": [
        "#**Model Buidling**"
      ]
    },
    {
      "cell_type": "markdown",
      "metadata": {
        "id": "0y87bs1wN3cw"
      },
      "source": [
        "##Step 1. NUMBER TO SEGMENT\n",
        "456 = 400 + 50 + 6\n",
        "\n",
        "input 456\n",
        "\n",
        "output 400|+|50|+|6"
      ]
    },
    {
      "cell_type": "code",
      "metadata": {
        "id": "OKqPbTGgGlVd"
      },
      "source": [
        "!pip install git+https://github.com/CyberZHG/keras-transformer.git"
      ],
      "execution_count": null,
      "outputs": []
    },
    {
      "cell_type": "code",
      "metadata": {
        "id": "zUUcvTNzHcqf"
      },
      "source": [
        "import keras_transformer\n",
        "from keras_transformer import get_model"
      ],
      "execution_count": null,
      "outputs": []
    },
    {
      "cell_type": "code",
      "metadata": {
        "id": "Cj0uXHDeJ5J5"
      },
      "source": [
        "def readable_inverse (prediction, alphabet):\n",
        "  readinver = []\n",
        "  inver = []\n",
        "  for i in prediction:\n",
        "    firs = []\n",
        "    for k in i:\n",
        "      num = np.argmax(k)\n",
        "      firs.append(num)\n",
        "      readable = invert(firs, alphabet)\n",
        "    readinver.append(readable)\n",
        "    inver.append(firs)\n",
        "  return inver, readinver\n",
        "  "
      ],
      "execution_count": null,
      "outputs": []
    },
    {
      "cell_type": "code",
      "metadata": {
        "colab": {
          "base_uri": "https://localhost:8080/"
        },
        "id": "hCHJ3AoGE0xL",
        "outputId": "9bb697db-7fc4-4cb2-f5ab-46fcc7554a4b"
      },
      "source": [
        "np.asarray(english_train_bs).shape"
      ],
      "execution_count": null,
      "outputs": [
        {
          "output_type": "execute_result",
          "data": {
            "text/plain": [
              "(6295, 15)"
            ]
          },
          "metadata": {
            "tags": []
          },
          "execution_count": 175
        }
      ]
    },
    {
      "cell_type": "code",
      "metadata": {
        "colab": {
          "base_uri": "https://localhost:8080/"
        },
        "id": "pWKTl2HdE7LR",
        "outputId": "537f4b10-2437-403b-ceb2-0d9edd4b6555"
      },
      "source": [
        "np.asarray(segment_train_bs).shape"
      ],
      "execution_count": null,
      "outputs": [
        {
          "output_type": "execute_result",
          "data": {
            "text/plain": [
              "(6295, 23)"
            ]
          },
          "metadata": {
            "tags": []
          },
          "execution_count": 176
        }
      ]
    },
    {
      "cell_type": "code",
      "metadata": {
        "id": "SPiQEZoqMBsd"
      },
      "source": [
        "model = get_model(token_num=max(len(number_vocab), len(segment_vocab)),\n",
        "                  embed_dim=32, encoder_num=8, decoder_num=4, head_num=8, \n",
        "                  hidden_dim=128, attention_activation = 'relu', feed_forward_activation = 'relu',\n",
        "                  dropout_rate=0.05, use_same_embed=False)\n",
        "model.compile('adam', 'sparse_categorical_crossentropy', metrics = ['accuracy'])\n",
        "model.summary()"
      ],
      "execution_count": null,
      "outputs": []
    },
    {
      "cell_type": "code",
      "metadata": {
        "id": "k3gAxLduFHSY"
      },
      "source": [
        "train_bs_english = "
      ],
      "execution_count": null,
      "outputs": []
    },
    {
      "cell_type": "code",
      "metadata": {
        "id": "ahk6gClcrfoR"
      },
      "source": [
        "train_ss_num = tf.random.shuffle(train_ss_num, seed = 68)\n",
        "train_ss_seg = tf.random.shuffle(train_ss_seg, seed = 68)\n",
        "test1_num = tf.random.shuffle(test1_num, seed = 68)\n",
        "test2_num = tf.random.shuffle(test2_num, seed = 68)\n",
        "test1_seg = tf.random.shuffle(test1_seg, seed = 68)\n",
        "test2_seg = tf.random.shuffle(test2_seg, seed = 68)"
      ],
      "execution_count": null,
      "outputs": []
    },
    {
      "cell_type": "code",
      "metadata": {
        "id": "l6Adzh2dTHPx"
      },
      "source": [
        "callback = tf.keras.callbacks.EarlyStopping(monitor='accuracy', patience=5)\n",
        "history = model.fit(x=[np.asarray(train_ss_num), np.asarray(train_ss_seg)],\n",
        "    y= np.asarray(train_ss_seg),\n",
        "    epochs=50,\n",
        "    validation_split = 0.1,\n",
        "    batch_size = 64,\n",
        "    verbose = 1,\n",
        "    callbacks=[callback])\n"
      ],
      "execution_count": null,
      "outputs": []
    },
    {
      "cell_type": "code",
      "metadata": {
        "colab": {
          "base_uri": "https://localhost:8080/",
          "height": 312
        },
        "id": "UCdsG7clojfZ",
        "outputId": "553042d2-4746-441c-9372-228ac21b1a1e"
      },
      "source": [
        "plotter = tfdocs.plots.HistoryPlotter(smoothing_std=2)\n",
        "plotter.plot({'Accuracy': history}, metric = \"accuracy\")\n",
        "plt.ylim([0, 1])\n",
        "plt.ylabel('accuracy')\n",
        "plt.title('Small-size Number to Segment')"
      ],
      "execution_count": null,
      "outputs": [
        {
          "output_type": "execute_result",
          "data": {
            "text/plain": [
              "Text(0.5, 1.0, 'Small-size Number to Segment')"
            ]
          },
          "metadata": {
            "tags": []
          },
          "execution_count": 41
        },
        {
          "output_type": "display_data",
          "data": {
            "image/png": "[encoded data removed]",
            "text/plain": [
              "<Figure size 432x288 with 1 Axes>"
            ]
          },
          "metadata": {
            "tags": []
          }
        }
      ]
    },
    {
      "cell_type": "code",
      "metadata": {
        "id": "D4TkAgewZHM7"
      },
      "source": [
        "### encode_input -- big_size_number\n",
        "### decode_input --- big_size_segment\n",
        "### decode_output --- big_size_segment"
      ],
      "execution_count": null,
      "outputs": []
    },
    {
      "cell_type": "code",
      "metadata": {
        "colab": {
          "base_uri": "https://localhost:8080/"
        },
        "id": "nezbvgsBe-xt",
        "outputId": "a714b93b-c542-48f9-ebd0-9c600bfd3d01"
      },
      "source": [
        "scores1 = model.evaluate(x=[np.asarray(test1_num), np.asarray(test1_seg)],\n",
        "    y= np.asarray(test1_seg), verbose = 2)"
      ],
      "execution_count": null,
      "outputs": [
        {
          "output_type": "stream",
          "text": [
            "19/19 - 1s - loss: 0.0121 - accuracy: 1.0000\n"
          ],
          "name": "stdout"
        }
      ]
    },
    {
      "cell_type": "code",
      "metadata": {
        "colab": {
          "base_uri": "https://localhost:8080/"
        },
        "id": "vFwBHlAFpY2h",
        "outputId": "34b53205-5c49-4f8e-a87d-6826aab4fd83"
      },
      "source": [
        "scores2 = model.evaluate(x= [np.asarray(test2_num), np.asarray(test2_seg)],\n",
        "                         y = np.asarray(test2_seg), verbose = 2)"
      ],
      "execution_count": null,
      "outputs": [
        {
          "output_type": "stream",
          "text": [
            "19/19 - 1s - loss: 0.0122 - accuracy: 1.0000\n"
          ],
          "name": "stdout"
        }
      ]
    },
    {
      "cell_type": "code",
      "metadata": {
        "id": "yRoHwWdt4d5C"
      },
      "source": [
        "### test1 and big_size number overlap 84 \n",
        "### size test 1: 593\n",
        "### size big size 2902\n",
        "y_pred1 = model.predict(x = [np.asarray(test1_num), np.asarray(test1_seg)])\n",
        "test_segment_result1, test_segment1 = readable_inverse(y_pred1, segment_vocab)\n"
      ],
      "execution_count": null,
      "outputs": []
    },
    {
      "cell_type": "code",
      "metadata": {
        "id": "BZca11UyuYX2"
      },
      "source": [
        "test_segment_result1, test_segment1 = readable_inverse(y_pred1, segment_vocab)\n",
        "test_segment_result2, test_segment2 = readable_inverse(y_pred2, segment_vocab)"
      ],
      "execution_count": null,
      "outputs": []
    },
    {
      "cell_type": "code",
      "metadata": {
        "id": "Rgk-Gs0SqE8M"
      },
      "source": [
        "y_pred2 = model.predict(x = [np.asarray(test2_num), np.asarray(test2_seg)])\n",
        "test_segment_result2, test_segment2 = readable_inverse(y_pred2, segment_vocab)"
      ],
      "execution_count": null,
      "outputs": []
    },
    {
      "cell_type": "code",
      "metadata": {
        "colab": {
          "base_uri": "https://localhost:8080/",
          "height": 35
        },
        "id": "D0sJUax3p5B9",
        "outputId": "9f14ca45-cb16-42b2-8f23-9bbe95956e07"
      },
      "source": [
        "test_segment1[0]"
      ],
      "execution_count": null,
      "outputs": [
        {
          "output_type": "execute_result",
          "data": {
            "application/vnd.google.colaboratory.intrinsic+json": {
              "type": "string"
            },
            "text/plain": [
              "'                                 1x100+30+7x1000+5x100+40+8'"
            ]
          },
          "metadata": {
            "tags": []
          },
          "execution_count": 77
        }
      ]
    },
    {
      "cell_type": "code",
      "metadata": {
        "id": "010KjLZivHGU"
      },
      "source": [
        ""
      ],
      "execution_count": null,
      "outputs": []
    },
    {
      "cell_type": "markdown",
      "metadata": {
        "id": "bphiXezpNX-H"
      },
      "source": [
        "Step 2. Segment to Name"
      ]
    },
    {
      "cell_type": "code",
      "metadata": {
        "id": "Rmh4FDFyN5mT"
      },
      "source": [
        "### encode_input -- big_size_number\n",
        "### decode_input --- big_size_name (english, german, japanese, indonesian)\n",
        "### decode_output --- big_size_name (english, german, japanese, indonesian)\n",
        "\n",
        "x_eng = [np.asarray(train_bs_seg), np.asarray(train_n_list['en'])]\n",
        "x_deu = [np.asarray(train_bs_seg), np.asarray(bs_name_list['de'])]\n",
        "x_jpn = [np.asarray(train_bs_seg), np.asarray(bs_name_list['ja'])]\n",
        "x_ind = [np.asarray(train_bs_seg), np.asarray(bs_name_list['id'])]"
      ],
      "execution_count": null,
      "outputs": []
    },
    {
      "cell_type": "code",
      "metadata": {
        "id": "Y_wAEeYcdGEY"
      },
      "source": [
        "model = get_model(token_num=50,\n",
        "                  embed_dim=32, encoder_num=8, decoder_num=8, head_num=8, \n",
        "                  hidden_dim=128, attention_activation = 'relu', feed_forward_activation = 'relu',\n",
        "                  dropout_rate=0.05, use_same_embed=False)\n",
        "model.compile('adam', 'sparse_categorical_crossentropy', metrics = ['accuracy'])\n",
        "model.summary()"
      ],
      "execution_count": null,
      "outputs": []
    },
    {
      "cell_type": "code",
      "metadata": {
        "id": "SQLjzHGddROD"
      },
      "source": [
        "eng_decode_input_bs = tf.random.shuffle(english_decode_input_bs)\n",
        "eng_decode_output_bs =tf.random.shuffle(english_decode_output_bs)"
      ],
      "execution_count": null,
      "outputs": []
    },
    {
      "cell_type": "code",
      "metadata": {
        "id": "5J2UJpGARaw3"
      },
      "source": [
        "english_decode_input_test1 "
      ],
      "execution_count": null,
      "outputs": []
    },
    {
      "cell_type": "code",
      "metadata": {
        "colab": {
          "base_uri": "https://localhost:8080/"
        },
        "id": "Wx2y59jALSWL",
        "outputId": "b6794272-0eec-45ef-ec75-1902afbeedb1"
      },
      "source": [
        "eng_decode_output_bs.shape"
      ],
      "execution_count": null,
      "outputs": [
        {
          "output_type": "execute_result",
          "data": {
            "text/plain": [
              "TensorShape([6295, 15, 1])"
            ]
          },
          "metadata": {
            "tags": []
          },
          "execution_count": 218
        }
      ]
    },
    {
      "cell_type": "code",
      "metadata": {
        "colab": {
          "base_uri": "https://localhost:8080/"
        },
        "id": "4xzdB2wMM7Vw",
        "outputId": "c43e850d-e18a-4939-86eb-92f005090cd3"
      },
      "source": [
        "eng_decode_input_bs.shape"
      ],
      "execution_count": null,
      "outputs": [
        {
          "output_type": "execute_result",
          "data": {
            "text/plain": [
              "TensorShape([6295, 15])"
            ]
          },
          "metadata": {
            "tags": []
          },
          "execution_count": 221
        }
      ]
    },
    {
      "cell_type": "code",
      "metadata": {
        "colab": {
          "base_uri": "https://localhost:8080/"
        },
        "id": "Mm9k7DfzREC3",
        "outputId": "ffa3071c-7349-40e1-b549-ad5850b4a9f5"
      },
      "source": [
        "print(train_bs_eng.shape, train_bs_segment2.shape, test1_eng.shape, test2_eng.shape)"
      ],
      "execution_count": null,
      "outputs": [
        {
          "output_type": "stream",
          "text": [
            "(6295, 15) (6295, 23) (593, 15) (584, 15)\n"
          ],
          "name": "stdout"
        }
      ]
    },
    {
      "cell_type": "code",
      "metadata": {
        "colab": {
          "base_uri": "https://localhost:8080/"
        },
        "id": "ZZDFGm_0PROz",
        "outputId": "ee728bc4-699b-4f6d-f6b9-7b43411ac732"
      },
      "source": [
        "history_eng = model.fit(x=[np.asarray(train_bs_segment2), np.asarray(eng_decode_input_bs)], \n",
        "                        y=np.asarray(eng_decode_input_bs), \n",
        "                        batch_size=32, \n",
        "                        epochs=50, callbacks=[callback], validation_split=0.2)"
      ],
      "execution_count": null,
      "outputs": [
        {
          "output_type": "stream",
          "text": [
            "Epoch 1/50\n"
          ],
          "name": "stdout"
        },
        {
          "output_type": "stream",
          "text": [
            "/usr/local/lib/python3.6/dist-packages/tensorflow/python/framework/indexed_slices.py:432: UserWarning: Converting sparse IndexedSlices to a dense Tensor of unknown shape. This may consume a large amount of memory.\n",
            "  \"Converting sparse IndexedSlices to a dense Tensor of unknown shape. \"\n"
          ],
          "name": "stderr"
        },
        {
          "output_type": "stream",
          "text": [
            "158/158 [==============================] - 44s 278ms/step - loss: 0.6592 - accuracy: 0.6335 - val_loss: 0.4020 - val_accuracy: 0.7494\n",
            "Epoch 2/50\n",
            "158/158 [==============================] - 36s 226ms/step - loss: 0.2338 - accuracy: 0.8960 - val_loss: 0.0831 - val_accuracy: 0.9767\n",
            "Epoch 3/50\n",
            "158/158 [==============================] - 36s 225ms/step - loss: 0.0510 - accuracy: 0.9848 - val_loss: 0.0245 - val_accuracy: 0.9942\n",
            "Epoch 4/50\n",
            "158/158 [==============================] - 36s 226ms/step - loss: 0.0211 - accuracy: 0.9949 - val_loss: 0.0114 - val_accuracy: 0.9973\n",
            "Epoch 5/50\n",
            "158/158 [==============================] - 35s 224ms/step - loss: 0.0103 - accuracy: 0.9986 - val_loss: 0.0058 - val_accuracy: 1.0000\n",
            "Epoch 6/50\n",
            "158/158 [==============================] - 36s 226ms/step - loss: 0.0053 - accuracy: 0.9999 - val_loss: 0.0026 - val_accuracy: 1.0000\n",
            "Epoch 7/50\n",
            "158/158 [==============================] - 36s 225ms/step - loss: 0.0030 - accuracy: 1.0000 - val_loss: 0.0017 - val_accuracy: 1.0000\n",
            "Epoch 8/50\n",
            "158/158 [==============================] - 36s 228ms/step - loss: 0.0027 - accuracy: 0.9998 - val_loss: 0.0068 - val_accuracy: 0.9984\n",
            "Epoch 9/50\n",
            "158/158 [==============================] - 36s 225ms/step - loss: 0.0023 - accuracy: 0.9997 - val_loss: 8.1745e-04 - val_accuracy: 1.0000\n",
            "Epoch 10/50\n",
            "158/158 [==============================] - 36s 227ms/step - loss: 0.0011 - accuracy: 1.0000 - val_loss: 6.4100e-04 - val_accuracy: 1.0000\n",
            "Epoch 11/50\n",
            "158/158 [==============================] - 35s 224ms/step - loss: 8.9743e-04 - accuracy: 1.0000 - val_loss: 5.2040e-04 - val_accuracy: 1.0000\n",
            "Epoch 12/50\n",
            "158/158 [==============================] - 36s 228ms/step - loss: 7.2637e-04 - accuracy: 1.0000 - val_loss: 4.3425e-04 - val_accuracy: 1.0000\n"
          ],
          "name": "stdout"
        }
      ]
    },
    {
      "cell_type": "code",
      "metadata": {
        "colab": {
          "base_uri": "https://localhost:8080/",
          "height": 312
        },
        "id": "8xu1GZzSTYZE",
        "outputId": "e55fe46a-9240-4203-b25e-678b10212eea"
      },
      "source": [
        "plotter = tfdocs.plots.HistoryPlotter(smoothing_std=2)\n",
        "plotter.plot({'Accuracy': history_eng}, metric = \"accuracy\")\n",
        "plt.ylim([0, 1])\n",
        "plt.ylabel('accuracy')\n",
        "plt.title('English train')"
      ],
      "execution_count": null,
      "outputs": [
        {
          "output_type": "execute_result",
          "data": {
            "text/plain": [
              "Text(0.5, 1.0, 'English train')"
            ]
          },
          "metadata": {
            "tags": []
          },
          "execution_count": 244
        },
        {
          "output_type": "display_data",
          "data": {
            "image/png": "[encoded data removed]",
            "text/plain": [
              "<Figure size 432x288 with 1 Axes>"
            ]
          },
          "metadata": {
            "tags": []
          }
        }
      ]
    },
    {
      "cell_type": "code",
      "metadata": {
        "id": "Vkv1ryq3qA8C"
      },
      "source": [
        "history_deu = model.fit(x_deu, x_deu[1], batch_size=32, epochs=50, callbacks=[callback], validation_split=0.2)"
      ],
      "execution_count": null,
      "outputs": []
    },
    {
      "cell_type": "code",
      "metadata": {
        "colab": {
          "base_uri": "https://localhost:8080/"
        },
        "id": "NenBZTkNqBIM",
        "outputId": "e5fb7eab-d56e-4f60-d936-65f341e508cc"
      },
      "source": [
        "scores_deu = model.evaluate(x = [np.asarray(test_seg), test_deu], y = test_deu, verbose = 2)"
      ],
      "execution_count": null,
      "outputs": [
        {
          "output_type": "stream",
          "text": [
            "19/19 - 1s - loss: 0.0496 - accuracy: 0.9827\n"
          ],
          "name": "stdout"
        }
      ]
    },
    {
      "cell_type": "code",
      "metadata": {
        "id": "RtV8KWSFZXDt"
      },
      "source": [
        "test_eng"
      ],
      "execution_count": null,
      "outputs": []
    },
    {
      "cell_type": "code",
      "metadata": {
        "colab": {
          "background_save": true,
          "base_uri": "https://localhost:8080/"
        },
        "id": "ptSmbVMGVo65",
        "outputId": "34fa671f-0d9a-4b76-9100-7402272597fa"
      },
      "source": [
        "scores_eng = model.evaluate(x=[np.asarray(segment_test1_encode_input), np.asarray(english_decode_input_test1)],\n",
        "    y= np.asarray(english_decode_output_test1), verbose = 2)"
      ],
      "execution_count": null,
      "outputs": [
        {
          "output_type": "stream",
          "text": [
            "19/19 - 1s - loss: 0.7728 - accuracy: 0.8918\n"
          ],
          "name": "stdout"
        }
      ]
    },
    {
      "cell_type": "code",
      "metadata": {
        "colab": {
          "base_uri": "https://localhost:8080/"
        },
        "id": "7UIqsqo7RwA0",
        "outputId": "22c4fe9e-94ae-42df-db8c-d2eb07f19371"
      },
      "source": [
        "from keras_transformer import decode\n",
        "decoded = decode(\n",
        "    model,\n",
        "    segment_test1_encode_input,\n",
        "    start_token = english_dict['<S>'],\n",
        "    end_token = english_dict['<E>'],\n",
        "    pad_token = english_dict['<PAD>'],\n",
        "    top_k = 10,\n",
        ")\n",
        "print(' '.join(map(lambda x:english_dict_inver[x], decoded[0][1:-1])))"
      ],
      "execution_count": null,
      "outputs": [
        {
          "output_type": "stream",
          "text": [
            "two <PAD> two six seven hundred <PAD> two <PAD> <PAD> hundred six thirty eight\n"
          ],
          "name": "stdout"
        }
      ]
    },
    {
      "cell_type": "code",
      "metadata": {
        "colab": {
          "base_uri": "https://localhost:8080/"
        },
        "id": "yLPbGUsVTD4H",
        "outputId": "784b88ed-a72e-4b26-ca74-727dd4b7642b"
      },
      "source": [
        "segment_test_data1[0]"
      ],
      "execution_count": null,
      "outputs": [
        {
          "output_type": "execute_result",
          "data": {
            "text/plain": [
              "[1, 0, 0, 0, 0, 0, 0, 0, 0, 0, 0, 0, 0, 0, 0, 0, 0, 0, 0, 26, 35, 10, 2]"
            ]
          },
          "metadata": {
            "tags": []
          },
          "execution_count": 241
        }
      ]
    },
    {
      "cell_type": "code",
      "metadata": {
        "id": "E5boK3wUSlNM"
      },
      "source": [
        "for i in decoded:\n",
        "  print(''.join(map(lambda x:english_dict_inver[x], i[1:-1])))"
      ],
      "execution_count": null,
      "outputs": []
    },
    {
      "cell_type": "code",
      "metadata": {
        "id": "GgiuPrroZnfb"
      },
      "source": [
        "\n",
        "y_pred_eng = model.predict(x=[np.asarray(test_seg), np.asarray(test_eng)])\n",
        "eng_test_result, eng_test_result_seg = readable_inverse(y_pred_eng, bs_language_alphabet['en'])"
      ],
      "execution_count": null,
      "outputs": []
    },
    {
      "cell_type": "code",
      "metadata": {
        "colab": {
          "base_uri": "https://localhost:8080/"
        },
        "id": "kCQSPZlIaHVM",
        "outputId": "a756511f-98e2-4bfc-8e51-c247a8c11efb"
      },
      "source": [
        "np.argmax(y_pred_eng[0][0])"
      ],
      "execution_count": null,
      "outputs": [
        {
          "output_type": "execute_result",
          "data": {
            "text/plain": [
              "6"
            ]
          },
          "metadata": {
            "tags": []
          },
          "execution_count": 420
        }
      ]
    },
    {
      "cell_type": "code",
      "metadata": {
        "id": "ldgzNHdVaBmD"
      },
      "source": [
        "eng_test_result_seg"
      ],
      "execution_count": null,
      "outputs": []
    },
    {
      "cell_type": "code",
      "metadata": {
        "colab": {
          "base_uri": "https://localhost:8080/"
        },
        "id": "8JFMFTHmrrlf",
        "outputId": "3416fb0c-c747-4d59-f7e2-fcdaacfd1fd4"
      },
      "source": [
        "scores = model.evaluate( x = [np.asarray(test_seg), test_ind], y = test_ind)"
      ],
      "execution_count": null,
      "outputs": [
        {
          "output_type": "stream",
          "text": [
            "19/19 [==============================] - 1s 29ms/step - loss: 0.0023 - accuracy: 1.0000\n"
          ],
          "name": "stdout"
        }
      ]
    },
    {
      "cell_type": "code",
      "metadata": {
        "id": "dzQpBzS5r3ZM"
      },
      "source": [
        "bs_language_alphabet['id'].append(' ')\n",
        "y_pred_ind = model.predict(x=[np.asarray(test_seg), np.asarray(test_ind)])\n",
        "ind_test_segment_result, ind_test_segment_readable_result = readable_inverse(y_pred_ind, bs_language_alphabet['id'])"
      ],
      "execution_count": null,
      "outputs": []
    },
    {
      "cell_type": "code",
      "metadata": {
        "id": "Mq-assrosgnF"
      },
      "source": [
        "df_test['id']"
      ],
      "execution_count": null,
      "outputs": []
    },
    {
      "cell_type": "code",
      "metadata": {
        "id": "wx4578pcsZJW"
      },
      "source": [
        "ind_test_segment_readable_result"
      ],
      "execution_count": null,
      "outputs": []
    },
    {
      "cell_type": "code",
      "metadata": {
        "id": "U3ocWqtQXGsM"
      },
      "source": [
        "y_pred = model.predict(x=[np.asarray(test_seg), test_eng])\n",
        "test_segment_result, test_segment_readable_result = readable_inverse(y_pred, bs_language_alphabet['en'])"
      ],
      "execution_count": null,
      "outputs": []
    },
    {
      "cell_type": "code",
      "metadata": {
        "id": "ZLvzmxvXrVtZ"
      },
      "source": [
        ""
      ],
      "execution_count": null,
      "outputs": []
    },
    {
      "cell_type": "code",
      "metadata": {
        "colab": {
          "base_uri": "https://localhost:8080/"
        },
        "id": "7tZaJ4D0p3dt",
        "outputId": "c023cc0f-6b04-42fa-9392-c97e2d9ecbaa"
      },
      "source": [
        "train_bs_seg"
      ],
      "execution_count": null,
      "outputs": [
        {
          "output_type": "execute_result",
          "data": {
            "text/plain": [
              "<tf.Tensor: shape=(2899, 50), dtype=int64, numpy=\n",
              "array([[33, 33, 33, ..., 10, 32,  0],\n",
              "       [33, 33, 33, ..., 10, 32,  1],\n",
              "       [33, 33, 33, ..., 10, 32,  2],\n",
              "       ...,\n",
              "       [33, 33, 33, ..., 23, 32,  6],\n",
              "       [33, 33, 33, ..., 21, 32,  3],\n",
              "       [33, 33, 33, ..., 20, 32,  7]])>"
            ]
          },
          "metadata": {
            "tags": []
          },
          "execution_count": 266
        }
      ]
    },
    {
      "cell_type": "code",
      "metadata": {
        "colab": {
          "base_uri": "https://localhost:8080/"
        },
        "id": "0cB5fTCMo1Gk",
        "outputId": "425987fb-74d4-4109-cc3e-53428628b036"
      },
      "source": [
        "train_bs_num"
      ],
      "execution_count": null,
      "outputs": [
        {
          "output_type": "execute_result",
          "data": {
            "text/plain": [
              "<tf.Tensor: shape=(2899, 7), dtype=int64, numpy=\n",
              "array([[31, 31, 31, ..., 31,  1,  0],\n",
              "       [31, 31, 31, ..., 31,  1,  1],\n",
              "       [31, 31, 31, ..., 31,  1,  2],\n",
              "       ...,\n",
              "       [ 9,  7,  6, ...,  6,  5,  6],\n",
              "       [ 7,  3,  6, ...,  3,  3,  3],\n",
              "       [ 3,  2,  1, ...,  9,  2,  7]])>"
            ]
          },
          "metadata": {
            "tags": []
          },
          "execution_count": 264
        }
      ]
    },
    {
      "cell_type": "code",
      "metadata": {
        "colab": {
          "base_uri": "https://localhost:8080/"
        },
        "id": "E8BctYdsoya7",
        "outputId": "8ae7cf3c-77b3-4944-81b8-b4307646a2d7"
      },
      "source": [
        "bs_name_list['en']"
      ],
      "execution_count": null,
      "outputs": [
        {
          "output_type": "execute_result",
          "data": {
            "text/plain": [
              "<tf.Tensor: shape=(2899, 13), dtype=int64, numpy=\n",
              "array([[11,  0,  0, ...,  0,  0,  0],\n",
              "       [12,  0,  0, ...,  0,  0,  0],\n",
              "       [13,  0,  0, ...,  0,  0,  0],\n",
              "       ...,\n",
              "       [10, 31,  8, ..., 32, 24,  7],\n",
              "       [ 8, 31,  4, ..., 32, 22,  4],\n",
              "       [ 4, 31,  3, ..., 21,  8,  0]])>"
            ]
          },
          "metadata": {
            "tags": []
          },
          "execution_count": 265
        }
      ]
    },
    {
      "cell_type": "code",
      "metadata": {
        "id": "B7_GRVxIpquN"
      },
      "source": [
        ""
      ],
      "execution_count": null,
      "outputs": []
    },
    {
      "cell_type": "code",
      "metadata": {
        "colab": {
          "base_uri": "https://localhost:8080/"
        },
        "id": "Z6fWrXCjpLrF",
        "outputId": "8eda34c7-caca-461e-e2cf-40fe434df628"
      },
      "source": [
        "np.argmax(y_pred[0][1])"
      ],
      "execution_count": null,
      "outputs": [
        {
          "output_type": "execute_result",
          "data": {
            "text/plain": [
              "8"
            ]
          },
          "metadata": {
            "tags": []
          },
          "execution_count": 262
        }
      ]
    },
    {
      "cell_type": "code",
      "metadata": {
        "colab": {
          "base_uri": "https://localhost:8080/"
        },
        "id": "-napjHxSpO1K",
        "outputId": "0ed584a0-86e3-446f-8e17-7fc6d5d3523e"
      },
      "source": [
        "np.argmax(y_pred[0][2])"
      ],
      "execution_count": null,
      "outputs": [
        {
          "output_type": "execute_result",
          "data": {
            "text/plain": [
              "15"
            ]
          },
          "metadata": {
            "tags": []
          },
          "execution_count": 263
        }
      ]
    },
    {
      "cell_type": "code",
      "metadata": {
        "colab": {
          "base_uri": "https://localhost:8080/"
        },
        "id": "bSXEhVsppV5B",
        "outputId": "8b5cb236-fa2b-41ce-cceb-5317e02c401e"
      },
      "source": [
        "test_eng[7]"
      ],
      "execution_count": null,
      "outputs": [
        {
          "output_type": "execute_result",
          "data": {
            "text/plain": [
              "array([26,  7,  0,  0,  0,  0,  0,  0,  0,  0,  0])"
            ]
          },
          "metadata": {
            "tags": []
          },
          "execution_count": 294
        }
      ]
    },
    {
      "cell_type": "code",
      "metadata": {
        "id": "TVIM-c5WuSiC"
      },
      "source": [
        "test_segment_result"
      ],
      "execution_count": null,
      "outputs": []
    },
    {
      "cell_type": "code",
      "metadata": {
        "colab": {
          "base_uri": "https://localhost:8080/",
          "height": 215
        },
        "id": "iHK5orxJomfC",
        "outputId": "3713fafc-e4d5-4518-bf40-b3c747748010"
      },
      "source": [
        "\n"
      ],
      "execution_count": null,
      "outputs": [
        {
          "output_type": "error",
          "ename": "ValueError",
          "evalue": "ignored",
          "traceback": [
            "\u001b[0;31m---------------------------------------------------------------------------\u001b[0m",
            "\u001b[0;31mValueError\u001b[0m                                Traceback (most recent call last)",
            "\u001b[0;32m<ipython-input-288-b59f2295634d>\u001b[0m in \u001b[0;36m<module>\u001b[0;34m()\u001b[0m\n\u001b[1;32m      1\u001b[0m \u001b[0moverlap\u001b[0m \u001b[0;34m=\u001b[0m \u001b[0;34m[\u001b[0m\u001b[0;34m]\u001b[0m\u001b[0;34m\u001b[0m\u001b[0;34m\u001b[0m\u001b[0m\n\u001b[1;32m      2\u001b[0m \u001b[0;32mfor\u001b[0m \u001b[0mi\u001b[0m\u001b[0;34m,\u001b[0m\u001b[0mj\u001b[0m \u001b[0;32min\u001b[0m \u001b[0mzip\u001b[0m\u001b[0;34m(\u001b[0m\u001b[0mtest_eng\u001b[0m\u001b[0;34m,\u001b[0m \u001b[0mtest_segment_result\u001b[0m\u001b[0;34m)\u001b[0m\u001b[0;34m:\u001b[0m\u001b[0;34m\u001b[0m\u001b[0;34m\u001b[0m\u001b[0m\n\u001b[0;32m----> 3\u001b[0;31m   \u001b[0;32mif\u001b[0m \u001b[0mi\u001b[0m \u001b[0;34m==\u001b[0m \u001b[0mj\u001b[0m \u001b[0;32mis\u001b[0m \u001b[0;32mTrue\u001b[0m\u001b[0;34m:\u001b[0m\u001b[0;34m\u001b[0m\u001b[0;34m\u001b[0m\u001b[0m\n\u001b[0m\u001b[1;32m      4\u001b[0m     \u001b[0moverlap\u001b[0m\u001b[0;34m.\u001b[0m\u001b[0mappend\u001b[0m\u001b[0;34m(\u001b[0m\u001b[0mi\u001b[0m\u001b[0;34m)\u001b[0m\u001b[0;34m\u001b[0m\u001b[0;34m\u001b[0m\u001b[0m\n",
            "\u001b[0;31mValueError\u001b[0m: The truth value of an array with more than one element is ambiguous. Use a.any() or a.all()"
          ]
        }
      ]
    },
    {
      "cell_type": "code",
      "metadata": {
        "id": "roI-QyAwlBdC"
      },
      "source": [
        "bs_language_alphabet['en'].append(' ')"
      ],
      "execution_count": null,
      "outputs": []
    },
    {
      "cell_type": "code",
      "metadata": {
        "colab": {
          "base_uri": "https://localhost:8080/"
        },
        "id": "K7erNZT8kNbm",
        "outputId": "dd486e63-a54a-4f3a-f466-7e710c50c26c"
      },
      "source": [
        "for i,j in zip(test_segment_result,test_eng):\n",
        "  "
      ],
      "execution_count": null,
      "outputs": [
        {
          "output_type": "execute_result",
          "data": {
            "text/plain": [
              "array([[24,  8,  0, ...,  0,  0,  0],\n",
              "       [28,  4,  0, ...,  0,  0,  0],\n",
              "       [27,  1,  0, ...,  0,  0,  0],\n",
              "       ...,\n",
              "       [10, 31, 26, ...,  0,  0,  0],\n",
              "       [ 4, 31,  7, ..., 29, 25,  1],\n",
              "       [ 8, 31,  4, ..., 29, 22, 10]])"
            ]
          },
          "metadata": {
            "tags": []
          },
          "execution_count": 237
        }
      ]
    },
    {
      "cell_type": "code",
      "metadata": {
        "id": "sKZIpIYFkPqc"
      },
      "source": [
        "test_segment_result"
      ],
      "execution_count": null,
      "outputs": []
    },
    {
      "cell_type": "code",
      "metadata": {
        "colab": {
          "base_uri": "https://localhost:8080/"
        },
        "id": "brgCdxSeYHDy",
        "outputId": "06814fe4-d605-4fdf-a8c0-ed49a7d42245"
      },
      "source": [
        "df_test['number']"
      ],
      "execution_count": null,
      "outputs": [
        {
          "output_type": "execute_result",
          "data": {
            "text/plain": [
              "0           57\n",
              "1           93\n",
              "2           81\n",
              "3           76\n",
              "4           76\n",
              "        ...   \n",
              "588    4431517\n",
              "589    7675989\n",
              "590    9070634\n",
              "591    3657461\n",
              "592    7366439\n",
              "Name: number, Length: 593, dtype: object"
            ]
          },
          "metadata": {
            "tags": []
          },
          "execution_count": 233
        }
      ]
    },
    {
      "cell_type": "code",
      "metadata": {
        "colab": {
          "base_uri": "https://localhost:8080/"
        },
        "id": "jz6gb2RqX4dp",
        "outputId": "e2643b95-f5d2-4dd1-a44c-8056bba12522"
      },
      "source": [
        "df_test['en']"
      ],
      "execution_count": null,
      "outputs": [
        {
          "output_type": "execute_result",
          "data": {
            "text/plain": [
              "0                                            fifty-seven\n",
              "1                                           ninety-three\n",
              "2                                             eighty-one\n",
              "3                                            seventy-six\n",
              "4                                            seventy-six\n",
              "                             ...                        \n",
              "588    four million, four hundred and thirty-one thou...\n",
              "589    seven million, six hundred and seventy-five th...\n",
              "590    nine million, seventy thousand, six hundred an...\n",
              "591    three million, six hundred and fifty-seven tho...\n",
              "592    seven million, three hundred and sixty-six tho...\n",
              "Name: en, Length: 593, dtype: object"
            ]
          },
          "metadata": {
            "tags": []
          },
          "execution_count": 232
        }
      ]
    },
    {
      "cell_type": "code",
      "metadata": {
        "id": "1deEepTAysrn"
      },
      "source": [
        ""
      ],
      "execution_count": null,
      "outputs": []
    },
    {
      "cell_type": "code",
      "metadata": {
        "colab": {
          "base_uri": "https://localhost:8080/",
          "height": 35
        },
        "id": "VVkletyfYOpR",
        "outputId": "02c16f10-c710-471c-caca-28367fc094f9"
      },
      "source": [
        "test_segment_readable_result[46]"
      ],
      "execution_count": null,
      "outputs": [
        {
          "output_type": "execute_result",
          "data": {
            "application/vnd.google.colaboratory.intrinsic+json": {
              "type": "string"
            },
            "text/plain": [
              "'ninety seven sixteen sixteen sixteen sixteen sixteen sixteen sixteen sixteen sixteen'"
            ]
          },
          "metadata": {
            "tags": []
          },
          "execution_count": 236
        }
      ]
    },
    {
      "cell_type": "code",
      "metadata": {
        "id": "IYUZvClMXgpW"
      },
      "source": [
        "test_segment_result, test_segment_readable_result = readable_inverse(y_pred, bs_language_alphabet['en'])\n",
        "test_segment_readable_result"
      ],
      "execution_count": null,
      "outputs": []
    },
    {
      "cell_type": "code",
      "metadata": {
        "id": "VAi1z2ODHZf5"
      },
      "source": [
        ""
      ],
      "execution_count": null,
      "outputs": []
    },
    {
      "cell_type": "code",
      "metadata": {
        "id": "WFt1ZAtNHaAg"
      },
      "source": [
        "source_tokens = [\n",
        "    'i need more power'.split(' '),\n",
        "    'eat jujube and pill'.split(' '),\n",
        "]\n",
        "target_tokens = [\n",
        "    list('我要更多的抛瓦'),\n",
        "    list('吃枣💊'),\n",
        "]\n",
        "\n",
        "# Generate dictionaries\n",
        "def build_token_dict(token_list):\n",
        "    token_dict = {\n",
        "        '<PAD>': 0,\n",
        "        '<START>': 1,\n",
        "        '<END>': 2,\n",
        "    }\n",
        "    for tokens in token_list:\n",
        "        for token in tokens:\n",
        "            if token not in token_dict:\n",
        "                token_dict[token] = len(token_dict)\n",
        "    return token_dict\n",
        "\n",
        "source_token_dict = build_token_dict(source_tokens)\n",
        "target_token_dict = build_token_dict(target_tokens)\n",
        "target_token_dict_inv = {v: k for k, v in target_token_dict.items()}\n",
        "\n",
        "# Add special tokens\n",
        "encode_tokens = [['<START>'] + tokens + ['<END>'] for tokens in source_tokens]\n",
        "decode_tokens = [['<START>'] + tokens + ['<END>'] for tokens in target_tokens]\n",
        "output_tokens = [tokens + ['<END>', '<PAD>'] for tokens in target_tokens]"
      ],
      "execution_count": null,
      "outputs": []
    },
    {
      "cell_type": "code",
      "metadata": {
        "colab": {
          "base_uri": "https://localhost:8080/"
        },
        "id": "EiNlNYvqHbXP",
        "outputId": "9518d490-adcb-4593-b3bf-126a33e6c574"
      },
      "source": [
        "encode_tokens"
      ],
      "execution_count": null,
      "outputs": [
        {
          "output_type": "execute_result",
          "data": {
            "text/plain": [
              "[['<START>', 'i', 'need', 'more', 'power', '<END>'],\n",
              " ['<START>', 'eat', 'jujube', 'and', 'pill', '<END>']]"
            ]
          },
          "metadata": {
            "tags": []
          },
          "execution_count": 188
        }
      ]
    },
    {
      "cell_type": "code",
      "metadata": {
        "colab": {
          "base_uri": "https://localhost:8080/"
        },
        "id": "KM8AarptHdqu",
        "outputId": "36dbeae1-a237-4bd2-9766-ed42e717650b"
      },
      "source": [
        "decode_tokens"
      ],
      "execution_count": null,
      "outputs": [
        {
          "output_type": "execute_result",
          "data": {
            "text/plain": [
              "[['<START>', '我', '要', '更', '多', '的', '抛', '瓦', '<END>'],\n",
              " ['<START>', '吃', '枣', '💊', '<END>']]"
            ]
          },
          "metadata": {
            "tags": []
          },
          "execution_count": 189
        }
      ]
    },
    {
      "cell_type": "code",
      "metadata": {
        "colab": {
          "base_uri": "https://localhost:8080/"
        },
        "id": "u_msI3vFHfDs",
        "outputId": "f154917f-136d-4213-bee0-9140f0336727"
      },
      "source": [
        "output_tokens"
      ],
      "execution_count": null,
      "outputs": [
        {
          "output_type": "execute_result",
          "data": {
            "text/plain": [
              "[['我', '要', '更', '多', '的', '抛', '瓦', '<END>', '<PAD>'],\n",
              " ['吃', '枣', '💊', '<END>', '<PAD>']]"
            ]
          },
          "metadata": {
            "tags": []
          },
          "execution_count": 190
        }
      ]
    },
    {
      "cell_type": "code",
      "metadata": {
        "id": "HPoS17fOIaEN"
      },
      "source": [
        "source_max_len = max(map(len, encode_tokens))\n",
        "target_max_len = max(map(len, decode_tokens))\n",
        "\n",
        "encode_tokens = [tokens + ['<PAD>'] * (source_max_len - len(tokens)) for tokens in encode_tokens]\n",
        "decode_tokens = [tokens + ['<PAD>'] * (target_max_len - len(tokens)) for tokens in decode_tokens]\n",
        "output_tokens = [tokens + ['<PAD>'] * (target_max_len - len(tokens)) for tokens in output_tokens]\n",
        "\n",
        "encode_input = [list(map(lambda x: source_token_dict[x], tokens)) for tokens in encode_tokens]\n",
        "decode_input = [list(map(lambda x: target_token_dict[x], tokens)) for tokens in decode_tokens]\n",
        "decode_output = [list(map(lambda x: [target_token_dict[x]], tokens)) for tokens in output_tokens]"
      ],
      "execution_count": null,
      "outputs": []
    },
    {
      "cell_type": "code",
      "metadata": {
        "colab": {
          "base_uri": "https://localhost:8080/"
        },
        "id": "1nKR8F-RIbUH",
        "outputId": "81c68760-75b4-495c-df35-0b84e3beadee"
      },
      "source": [
        "encode_input"
      ],
      "execution_count": null,
      "outputs": [
        {
          "output_type": "execute_result",
          "data": {
            "text/plain": [
              "[[1, 3, 4, 5, 6, 2], [1, 7, 8, 9, 10, 2]]"
            ]
          },
          "metadata": {
            "tags": []
          },
          "execution_count": 192
        }
      ]
    },
    {
      "cell_type": "code",
      "metadata": {
        "colab": {
          "base_uri": "https://localhost:8080/"
        },
        "id": "Ai9BnjL3IehX",
        "outputId": "2ae1ac58-130d-4726-9cf7-c7abe95149b8"
      },
      "source": [
        "decode_input"
      ],
      "execution_count": null,
      "outputs": [
        {
          "output_type": "execute_result",
          "data": {
            "text/plain": [
              "[[1, 3, 4, 5, 6, 7, 8, 9, 2], [1, 10, 11, 12, 2, 0, 0, 0, 0]]"
            ]
          },
          "metadata": {
            "tags": []
          },
          "execution_count": 193
        }
      ]
    },
    {
      "cell_type": "code",
      "metadata": {
        "colab": {
          "base_uri": "https://localhost:8080/"
        },
        "id": "ejkf4vsoIgjh",
        "outputId": "5eba2c94-a462-4ee8-acd3-4e5ce75a114a"
      },
      "source": [
        "decode_output"
      ],
      "execution_count": null,
      "outputs": [
        {
          "output_type": "execute_result",
          "data": {
            "text/plain": [
              "[[[3], [4], [5], [6], [7], [8], [9], [2], [0]],\n",
              " [[10], [11], [12], [2], [0], [0], [0], [0], [0]]]"
            ]
          },
          "metadata": {
            "tags": []
          },
          "execution_count": 194
        }
      ]
    },
    {
      "cell_type": "code",
      "metadata": {
        "colab": {
          "base_uri": "https://localhost:8080/"
        },
        "id": "3djXdsilLcvY",
        "outputId": "5c7b56d6-7df8-4047-b45e-76bccf0d2f58"
      },
      "source": [
        "english_decode_input_test1[:10]"
      ],
      "execution_count": null,
      "outputs": [
        {
          "output_type": "execute_result",
          "data": {
            "text/plain": [
              "[[1, 0, 0, 0, 0, 0, 0, 0, 0, 0, 0, 0, 26, 10, 2],\n",
              " [1, 0, 0, 0, 0, 0, 0, 0, 0, 0, 0, 0, 30, 6, 2],\n",
              " [1, 0, 0, 0, 0, 0, 0, 0, 0, 0, 0, 0, 29, 4, 2],\n",
              " [1, 0, 0, 0, 0, 0, 0, 0, 0, 0, 0, 0, 28, 9, 2],\n",
              " [1, 0, 0, 0, 0, 0, 0, 0, 0, 0, 0, 0, 28, 9, 2],\n",
              " [1, 0, 0, 0, 0, 0, 0, 0, 0, 0, 0, 0, 28, 9, 2],\n",
              " [1, 0, 0, 0, 0, 0, 0, 0, 0, 0, 0, 0, 27, 11, 2],\n",
              " [1, 0, 0, 0, 0, 0, 0, 0, 0, 0, 0, 0, 28, 9, 2],\n",
              " [1, 0, 0, 0, 0, 0, 0, 0, 0, 0, 0, 0, 28, 9, 2],\n",
              " [1, 0, 0, 0, 0, 0, 0, 0, 0, 0, 0, 0, 28, 9, 2]]"
            ]
          },
          "metadata": {
            "tags": []
          },
          "execution_count": 205
        }
      ]
    },
    {
      "cell_type": "code",
      "metadata": {
        "colab": {
          "base_uri": "https://localhost:8080/",
          "height": 164
        },
        "id": "47AyhI8gLgnm",
        "outputId": "370a0db8-0ff8-4574-f03c-cf82da8fa46b"
      },
      "source": [
        "english_decode_output_test[:10]"
      ],
      "execution_count": null,
      "outputs": [
        {
          "output_type": "error",
          "ename": "NameError",
          "evalue": "ignored",
          "traceback": [
            "\u001b[0;31m---------------------------------------------------------------------------\u001b[0m",
            "\u001b[0;31mNameError\u001b[0m                                 Traceback (most recent call last)",
            "\u001b[0;32m<ipython-input-207-c1d2572fe1dc>\u001b[0m in \u001b[0;36m<module>\u001b[0;34m()\u001b[0m\n\u001b[0;32m----> 1\u001b[0;31m \u001b[0menglish_decode_output_test\u001b[0m\u001b[0;34m[\u001b[0m\u001b[0;34m:\u001b[0m\u001b[0;36m10\u001b[0m\u001b[0;34m]\u001b[0m\u001b[0;34m\u001b[0m\u001b[0;34m\u001b[0m\u001b[0m\n\u001b[0m",
            "\u001b[0;31mNameError\u001b[0m: name 'english_decode_output_test' is not defined"
          ]
        }
      ]
    }
  ]
}